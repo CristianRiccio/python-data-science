{
 "cells": [
  {
   "cell_type": "markdown",
   "metadata": {
    "slideshow": {
     "slide_type": "-"
    }
   },
   "source": [
    "# Data science in Python\n",
    "\n",
    "- Our course webpage: http://pycam.github.io\n",
    "- Python website: https://www.python.org/ \n",
    "\n",
    "## Session 1.1: Starting with data and Python\n",
    "- [Jupyter notebook](#Jupyter-notebook)\n",
    "    - Add text into notebook using Markdown cells\n",
    "    - Create and execute Code cells\n",
    "    - Download Python code into file\n",
    "- [Shell commands](#Shell-commands)\n",
    "    - Find python script downloaded from Jupyter and execute it\n",
    "    - Find first data file\n",
    "- [Basic Python](#Basic-Python)\n",
    "    - [Cheat Sheet](cheat_sheet_basic_python.ipynb)\n",
    "    - [Files](#Files)\n",
    "- [Exercise 1.1](#Exercise-1.1)"
   ]
  },
  {
   "cell_type": "markdown",
   "metadata": {},
   "source": [
    "## Jupyter notebook\n",
    "\n",
    "<img src=\"http://jupyter.org/assets/nav_logo.svg\">\n",
    "\n",
    "- The [Jupyter Notebook](http://jupyter.org/) is a web application that allows you to create and share documents that contain live code, equations, visualizations and explanatory text. \n",
    "\n",
    "- Jupyter provides a rich architecture for interactive data science and scientific computing with: \n",
    "    - Over 40 programming languages such as Python, R, Julia and Scala.\n",
    "    - A browser-based notebook with support for code, rich text, math expressions, plots and other rich media.\n",
    "    - Support for interactive data visualization."
   ]
  },
  {
   "cell_type": "markdown",
   "metadata": {},
   "source": [
    "### How to install Jupyter on your own computer?\n",
    "\n",
    "- We recommend using a virtual environment after having installed [Python 3](https://www.python.org/) on your computer\n",
    "```bash\n",
    "python3 -m venv venv\n",
    "source venv/bin/activate # activate your virtual environment\n",
    "```\n",
    "- Install Jupyter:\n",
    "```\n",
    "pip install jupyter\n",
    "```\n",
    "- Start the notebook server from the command line:\n",
    "```\n",
    "jupyter notebook\n",
    "```\n",
    "- You should see the notebook home page open in your web browser."
   ]
  },
  {
   "cell_type": "markdown",
   "metadata": {},
   "source": [
    "### How to run Python in a Jupyter notebook?\n",
    "\n",
    "- See [Jupyter Notebook Basics](http://nbviewer.jupyter.org/github/jupyter/notebook/blob/master/docs/source/examples/Notebook/Notebook%20Basics.ipynb)\n",
    "- Create a simple Jupyter notebook with one Markdown cell and one Code cell\n",
    "- Download the python file associated with the notebook newly created"
   ]
  },
  {
   "cell_type": "markdown",
   "metadata": {},
   "source": [
    "## Shell commands \n",
    "\n",
    "- Three commands\n",
    "```bash\n",
    "pwd\n",
    "ls\n",
    "cd\n",
    "```\n",
    "- Run the Python interpreter\n",
    "```\n",
    "python3\n",
    "```\n",
    "- Find Python script downloaded from Jupyter and execute it\n",
    "```\n",
    "python3 my-script.py\n",
    "```\n",
    "- Find first data file"
   ]
  },
  {
   "cell_type": "markdown",
   "metadata": {},
   "source": [
    "### How to start the Python interpreter?\n",
    "\n",
    "On a Mac or Linux machine you should start a terminal and then just type the command `python3`.\n",
    "<center><img src=\"img/python_shell.png\"></center>"
   ]
  },
  {
   "cell_type": "markdown",
   "metadata": {},
   "source": [
    "### How to run Python code from a file?\n",
    "\n",
    "For running Python code, open a Terminal window and type the command `python3` or just `python` followed by the name of the script.\n",
    "\n",
    "```bash\n",
    "python3 scripts/hello.py\n",
    "```\n",
    "<center><img src=\"img/python_run_code.png\"></center>\n",
    "\n",
    "Please, make sure that you are running Python 3:\n",
    "```bash\n",
    "python --version\n",
    "```"
   ]
  },
  {
   "cell_type": "markdown",
   "metadata": {},
   "source": [
    "## Basic Python\n",
    "\n",
    "### Cheat Sheet\n",
    "\n",
    "- [Cheat Sheet](cheat_sheet_basic_python.ipynb)\n",
    "\n",
    "### Files\n",
    "\n",
    "To read from a file, your program needs to open the file and then read the contents of the file. You can read the entire contents of the file at once, or read the file line by line. The **`with`** statement makes sure the file is closed properly when the program has finished accessing the file.\n",
    "\n",
    "\n",
    "Passing the `'w'` argument to `open()` tells Python you want to write to the file. Be careful; this will erase the contents of the file if it already exists. Passing the `'a'` argument tells Python you want to append to the end of an existing file."
   ]
  },
  {
   "cell_type": "code",
   "execution_count": null,
   "metadata": {},
   "outputs": [],
   "source": [
    "# reading from file\n",
    "with open(\"data/genes.txt\") as f:\n",
    "    for line in f:\n",
    "        print(line.strip())\n",
    "\n",
    "# writing to a file\n",
    "with open('programming.txt', 'w') as f:\n",
    "    f.write(\"I love programming in Python!\\n\")\n",
    "    f.write(\"I love making scripts.\\n\")\n",
    "    \n",
    "# appending to a file \n",
    "with open('programming.txt', 'a') as f:\n",
    "    f.write(\"I love working with data.\\n\")"
   ]
  },
  {
   "cell_type": "markdown",
   "metadata": {},
   "source": [
    "### Getting help\n",
    "\n",
    "[The Python 3 Standard Library](https://docs.python.org/3/library/index.html) is the reference documentation of all libraries included in Python as well as built-in functions and data types."
   ]
  },
  {
   "cell_type": "code",
   "execution_count": null,
   "metadata": {},
   "outputs": [],
   "source": [
    "help(len)          # help on built-in function\n",
    "help(list.extend)  # help on list function"
   ]
  },
  {
   "cell_type": "code",
   "execution_count": null,
   "metadata": {},
   "outputs": [],
   "source": [
    "# help within jupyter\n",
    "len?"
   ]
  },
  {
   "cell_type": "markdown",
   "metadata": {},
   "source": [
    "## Exercise 1.1\n",
    "\n",
    "We are going to look at a [Gapminder](https://www.gapminder.org/) dataset, made famous by Hans Rosling from hisTed presentation [‘The best stats you’ve ever seen’](http://www.ted.com/talks/hans_rosling_shows_the_best_stats_you_ve_ever_seen).\n",
    "\n",
    "- Read the dataset from the file `data/gapminder.txt` \n",
    "- Find what are the oldest and youngest years in the dataset programatically \n",
    "- Calculate average life expectancy as well as global population increase between these two years\n",
    "- Find which country has the lowest life expectancy in 2002"
   ]
  },
  {
   "cell_type": "markdown",
   "metadata": {
    "slideshow": {
     "slide_type": "-"
    }
   },
   "source": [
    "## Next session\n",
    "\n",
    "Go to our next notebook: [Session 1.2: Using existing python modules to explore data in files](12_python_data.ipynb)"
   ]
  }
 ],
 "metadata": {
  "celltoolbar": "Slideshow",
  "kernelspec": {
   "display_name": "Python 3",
   "language": "python",
   "name": "python3"
  },
  "language_info": {
   "codemirror_mode": {
    "name": "ipython",
    "version": 3
   },
   "file_extension": ".py",
   "mimetype": "text/x-python",
   "name": "python",
   "nbconvert_exporter": "python",
   "pygments_lexer": "ipython3",
   "version": "3.6.4"
  }
 },
 "nbformat": 4,
 "nbformat_minor": 1
}
