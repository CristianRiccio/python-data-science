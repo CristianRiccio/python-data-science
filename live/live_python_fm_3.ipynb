{
 "cells": [
  {
   "cell_type": "markdown",
   "metadata": {
    "deletable": true,
    "editable": true
   },
   "source": [
    "# Recap\n",
    "- functions"
   ]
  },
  {
   "cell_type": "code",
   "execution_count": null,
   "metadata": {
    "collapsed": false,
    "deletable": true,
    "editable": true
   },
   "outputs": [],
   "source": [
    "# built-in functions\n",
    "seq = 'ATCCTGCTAAA'\n",
    "print(len(seq))"
   ]
  },
  {
   "cell_type": "code",
   "execution_count": null,
   "metadata": {
    "collapsed": false,
    "deletable": true,
    "editable": true
   },
   "outputs": [],
   "source": [
    "# your own function\n",
    "def gc_content(seq):\n",
    "    gc = 0\n",
    "    for base in seq:\n",
    "        if (base == 'C') or (base == 'G'):\n",
    "            gc += 1\n",
    "    return gc\n",
    "\n",
    "print(gc_content('ATCCTGCTAAA'))\n",
    "print(gc_content('GGGCCCCTTTA'))"
   ]
  },
  {
   "cell_type": "markdown",
   "metadata": {
    "deletable": true,
    "editable": true
   },
   "source": [
    "# Session 3: modules\n",
    "\n",
    "- math, os.path, csv and pandas\n",
    "- create own module"
   ]
  },
  {
   "cell_type": "code",
   "execution_count": null,
   "metadata": {
    "collapsed": false,
    "deletable": true,
    "editable": true
   },
   "outputs": [],
   "source": [
    "import math\n",
    "print(math.pi)"
   ]
  },
  {
   "cell_type": "code",
   "execution_count": null,
   "metadata": {
    "collapsed": false,
    "deletable": true,
    "editable": true
   },
   "outputs": [],
   "source": [
    "import os.path\n",
    "seq_filename = os.path.join('data', 'seq.txt')\n",
    "print(os.path.exists(seq_filename))\n",
    "print(os.path.dirname(seq_filename))\n",
    "print(os.path.basename(seq_filename))"
   ]
  },
  {
   "cell_type": "markdown",
   "metadata": {
    "deletable": true,
    "editable": true
   },
   "source": [
    "## Ex 3.1\n",
    "- read a tab delimited file data/genes.txt\n",
    "- check if the file exists\n",
    "- calculate the lenght of each gene\n",
    "- write the results into a tab separated file"
   ]
  },
  {
   "cell_type": "code",
   "execution_count": null,
   "metadata": {
    "collapsed": false,
    "deletable": true,
    "editable": true
   },
   "outputs": [],
   "source": [
    "data_filename = os.path.join('data', 'genes.txt')\n",
    "if os.path.exists(data_filename):\n",
    "    with open(data_filename) as data:\n",
    "        header = data.readline()\n",
    "        with open('results.txt', 'w') as out:\n",
    "            for line in data:\n",
    "                #gene, chrom, start, end = line.strip().split()\n",
    "                row = line.strip().split()\n",
    "                print(int(row[3])-int(row[2]))\n",
    "                #out.write('{}\\t{}\\n'.format(gene, int(end)-int(start)+1))\n",
    "else:\n",
    "    print('{} file does not exist'.format(data_filename))"
   ]
  },
  {
   "cell_type": "code",
   "execution_count": null,
   "metadata": {
    "collapsed": true,
    "deletable": true,
    "editable": true
   },
   "outputs": [],
   "source": [
    "def gc_content(seq):\n",
    "    gc = 0\n",
    "    for base in seq:\n",
    "        if (base == 'C') or (base == 'G'):\n",
    "            gc += 1\n",
    "    return gc\n",
    "\n",
    "seq_filename = os.path.join('data', 'seq.txt')\n",
    "if os.path.exists(seq_filename):\n",
    "    with open (seq_filename) as data:\n",
    "        with open('gc_content_data.csv', 'w') as out:           \n",
    "            for line in data:\n",
    "                seq = line.strip()\n",
    "                out.write('{},{}\\n'.format(seq, gc_content(seq)))"
   ]
  },
  {
   "cell_type": "markdown",
   "metadata": {
    "deletable": true,
    "editable": true
   },
   "source": [
    "## cvs module"
   ]
  },
  {
   "cell_type": "code",
   "execution_count": null,
   "metadata": {
    "collapsed": false,
    "deletable": true,
    "editable": true
   },
   "outputs": [],
   "source": [
    "import csv\n",
    "data_filename = 'gc_content_data.csv'\n",
    "if os.path.exists(data_filename):\n",
    "    with open(data_filename) as data:\n",
    "        reader = csv.reader(data, delimiter=',')\n",
    "        for row in reader:\n",
    "            print(row)"
   ]
  },
  {
   "cell_type": "code",
   "execution_count": null,
   "metadata": {
    "collapsed": false,
    "deletable": true,
    "editable": true
   },
   "outputs": [],
   "source": [
    "import csv\n",
    "# add column header to data file called seq,gc\n",
    "data_filename = 'gc_content_data.csv'\n",
    "results = []\n",
    "if os.path.exists(data_filename):\n",
    "    with open(data_filename) as data:\n",
    "        reader = csv.DictReader(data, delimiter=',')\n",
    "        for row in reader:\n",
    "            results.append(row)\n",
    "\n",
    "for r in results:\n",
    "    print('{}\\t{}'.format(r['seq'], r['gc']))"
   ]
  },
  {
   "cell_type": "code",
   "execution_count": null,
   "metadata": {
    "collapsed": true,
    "deletable": true,
    "editable": true
   },
   "outputs": [],
   "source": [
    "import csv\n",
    "with open('output.txt', 'w') as out:\n",
    "    writer = csv.DictWriter(out, fieldnames=['seq', 'gc'], delimiter='\\t')\n",
    "    for r in results:\n",
    "        writer.writerow(r)"
   ]
  },
  {
   "cell_type": "markdown",
   "metadata": {
    "deletable": true,
    "editable": true
   },
   "source": [
    "## Ex 3.2\n",
    "- change the script you wrote for ex 3.1 to make use of the csv module"
   ]
  },
  {
   "cell_type": "code",
   "execution_count": null,
   "metadata": {
    "collapsed": false,
    "deletable": true,
    "editable": true
   },
   "outputs": [],
   "source": [
    "data_filename = os.path.join('data', 'genes.txt')\n",
    "results = []\n",
    "if os.path.exists(data_filename):\n",
    "    with open(data_filename) as data:\n",
    "        reader = csv.DictReader(data, delimiter='\\t')\n",
    "        for row in reader:\n",
    "            results.append({'gene': row['gene'], 'len': int(row['end'])-int(row['start'])+1})\n",
    "else:\n",
    "    print('{} file does not exist'.format(data_filename))\n",
    "    \n",
    "with open('results_with_csv.txt', 'w') as out:\n",
    "    writer = csv.DictWriter(out, fieldnames=['gene', 'len'], delimiter='\\t')\n",
    "    for r in results:\n",
    "        writer.writerow(r)\n",
    "\n",
    "#print(results)"
   ]
  },
  {
   "cell_type": "code",
   "execution_count": null,
   "metadata": {
    "collapsed": false,
    "deletable": true,
    "editable": true
   },
   "outputs": [],
   "source": [
    "import pandas\n",
    "data = pandas.read_csv('results_with_csv.txt', sep='\\t')\n",
    "print(data)"
   ]
  },
  {
   "cell_type": "markdown",
   "metadata": {
    "deletable": true,
    "editable": true
   },
   "source": [
    "## Writing your own module"
   ]
  },
  {
   "cell_type": "code",
   "execution_count": null,
   "metadata": {
    "collapsed": true,
    "deletable": true,
    "editable": true
   },
   "outputs": [],
   "source": [
    "def gc_content(seq):\n",
    "    gc = 0\n",
    "    for base in seq:\n",
    "        if (base == 'C') or (base == 'G'):\n",
    "            gc += 1\n",
    "    return gc"
   ]
  },
  {
   "cell_type": "code",
   "execution_count": null,
   "metadata": {
    "collapsed": false,
    "deletable": true,
    "editable": true
   },
   "outputs": [],
   "source": [
    "import tools\n",
    "print(tools.gc_content('CCCTTCGCTT'))"
   ]
  },
  {
   "cell_type": "code",
   "execution_count": null,
   "metadata": {
    "collapsed": false,
    "deletable": true,
    "editable": true
   },
   "outputs": [],
   "source": [
    "from tools import gc_content\n",
    "print(gc_content('AAAAA'))"
   ]
  },
  {
   "cell_type": "markdown",
   "metadata": {
    "deletable": true,
    "editable": true
   },
   "source": [
    "## Ex 3.3\n",
    "- write a function that extract a list of overlapping sub-sequences of a given sequence for a given window size"
   ]
  },
  {
   "cell_type": "code",
   "execution_count": null,
   "metadata": {
    "collapsed": false,
    "deletable": true,
    "editable": true
   },
   "outputs": [],
   "source": [
    "def extract_seq(seq, window_size):\n",
    "    results = []\n",
    "    nb_windows = len(seq) - window_size + 1\n",
    "    for i in range(nb_windows):\n",
    "        results.append(seq[i:i+window_size])\n",
    "    return results\n",
    "\n",
    "seq = 'ATTCCGGGCCTTAAAA'\n",
    "print(extract_seq(seq, 5))"
   ]
  },
  {
   "cell_type": "markdown",
   "metadata": {
    "deletable": true,
    "editable": true
   },
   "source": [
    "## Ex 3.4\n",
    "- calculate the gc content along the DNA sequence by combining the two functiona writen using the tools module"
   ]
  },
  {
   "cell_type": "code",
   "execution_count": null,
   "metadata": {
    "collapsed": false,
    "deletable": true,
    "editable": true
   },
   "outputs": [],
   "source": [
    "import tools\n",
    "seq = 'ATTCCGGGCCTTAAAA'\n",
    "for sub_seq in tools.extract_seq(seq, 5):\n",
    "    print(tools.gc_content(sub_seq))"
   ]
  }
 ],
 "metadata": {
  "kernelspec": {
   "display_name": "Python 3",
   "language": "python",
   "name": "python3"
  },
  "language_info": {
   "codemirror_mode": {
    "name": "ipython",
    "version": 3
   },
   "file_extension": ".py",
   "mimetype": "text/x-python",
   "name": "python",
   "nbconvert_exporter": "python",
   "pygments_lexer": "ipython3",
   "version": "3.6.4"
  }
 },
 "nbformat": 4,
 "nbformat_minor": 2
}
