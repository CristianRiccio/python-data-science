{
 "cells": [
  {
   "cell_type": "markdown",
   "metadata": {},
   "source": [
    "## Recap\n",
    "\n",
    "- basic python"
   ]
  },
  {
   "cell_type": "markdown",
   "metadata": {},
   "source": [
    "### Python basic"
   ]
  },
  {
   "cell_type": "code",
   "execution_count": null,
   "metadata": {
    "collapsed": false
   },
   "outputs": [],
   "source": [
    "# list\n",
    "my_name = 'Anne'\n",
    "my_list = [2, 4, 6, 8, my_name]\n",
    "print(my_list)\n",
    "print(my_list[1])"
   ]
  },
  {
   "cell_type": "code",
   "execution_count": null,
   "metadata": {
    "collapsed": true
   },
   "outputs": [],
   "source": [
    "# dictionary\n",
    "my_dict = {'A': 'Adenine', 'C': 'Cytosine'} \n",
    "print(my_dict)\n",
    "print(my_dict['A'])"
   ]
  },
  {
   "cell_type": "code",
   "execution_count": null,
   "metadata": {
    "collapsed": false
   },
   "outputs": [],
   "source": [
    "# string\n",
    "seq = 'ATC CTG TAC TTT'\n",
    "codons = seq.split()\n",
    "print(codons)\n",
    "new_seq = ','.join(codons)\n",
    "print(new_seq)"
   ]
  },
  {
   "cell_type": "code",
   "execution_count": null,
   "metadata": {
    "collapsed": true
   },
   "outputs": [],
   "source": [
    "# loop\n",
    "seq = 'ATCCTGTACTT'\n",
    "for base in seq:\n",
    "    print(base)"
   ]
  },
  {
   "cell_type": "code",
   "execution_count": null,
   "metadata": {
    "collapsed": false
   },
   "outputs": [],
   "source": [
    "# condition\n",
    "base = 'A'\n",
    "if base == 'A':\n",
    "    print('found base A')"
   ]
  },
  {
   "cell_type": "code",
   "execution_count": null,
   "metadata": {
    "collapsed": false
   },
   "outputs": [],
   "source": [
    "# loop and condition combined\n",
    "seq = 'ATCCTGTACTT'\n",
    "gc = 0\n",
    "for base in seq:\n",
    "    if (base == 'G') or (base == 'C'):\n",
    "        gc += 1\n",
    "        print(base)\n",
    "print('total number of GCs in the sequence', seq, 'is', gc)"
   ]
  },
  {
   "cell_type": "code",
   "execution_count": null,
   "metadata": {
    "collapsed": true
   },
   "outputs": [],
   "source": [
    "# file\n",
    "seq = 'ATCCTGTACTT'\n",
    "gc = 0\n",
    "for base in seq:\n",
    "    if (base == 'G') or (base == 'C'):\n",
    "        gc += 1\n",
    "\n",
    "with open('my_file.txt', 'w') as out:\n",
    "    out.write('seq,gc_content\\n')\n",
    "    out.write('{},{}'.format(seq, gc))"
   ]
  },
  {
   "cell_type": "markdown",
   "metadata": {
    "deletable": true,
    "editable": true
   },
   "source": [
    "## Recap\n",
    "\n",
    "- functions"
   ]
  },
  {
   "cell_type": "markdown",
   "metadata": {},
   "source": [
    "### Python documentation\n",
    "\n",
    "- link to python.org"
   ]
  },
  {
   "cell_type": "markdown",
   "metadata": {},
   "source": [
    "### Functions"
   ]
  },
  {
   "cell_type": "code",
   "execution_count": null,
   "metadata": {
    "collapsed": false
   },
   "outputs": [],
   "source": [
    "# build-in ones\n",
    "seq = 'ATCCTGTACTT'\n",
    "print(len(seq))"
   ]
  },
  {
   "cell_type": "code",
   "execution_count": null,
   "metadata": {
    "collapsed": false
   },
   "outputs": [],
   "source": [
    "# your own one\n",
    "def gc_content(seq):\n",
    "    gc = 0\n",
    "    for base in seq:\n",
    "        if (base == 'G') or (base == 'C'):\n",
    "            gc += 1\n",
    "    return gc\n",
    "\n",
    "seq = 'ATCCTGTACTT'\n",
    "print(gc_content(seq))\n",
    "print(gc_content('AAATCGATTTAAGGGG')) # reuse multiple time\n",
    "\n",
    "with open('gc_content_data.csv', 'w') as out:\n",
    "    with open('seq.txt') as data:\n",
    "        for line in data:\n",
    "            seq = line.strip()\n",
    "            out.write('{},{}\\n'.format(seq, gc_content(seq)))"
   ]
  },
  {
   "cell_type": "markdown",
   "metadata": {},
   "source": [
    "# Session 3: Modules\n",
    "\n",
    "- use built-in modules: math, os.path, csv and pandas\n",
    "- create your own"
   ]
  },
  {
   "cell_type": "markdown",
   "metadata": {},
   "source": [
    "### math module"
   ]
  },
  {
   "cell_type": "code",
   "execution_count": null,
   "metadata": {
    "collapsed": false
   },
   "outputs": [],
   "source": [
    "# import math\n",
    "import math\n",
    "dir(math)"
   ]
  },
  {
   "cell_type": "markdown",
   "metadata": {},
   "source": [
    "### os.path module"
   ]
  },
  {
   "cell_type": "code",
   "execution_count": null,
   "metadata": {
    "collapsed": false
   },
   "outputs": [],
   "source": [
    "# os.path module\n",
    "import os.path\n",
    "print(os.path.exists('my_file_that_does_not_exist.txt'))"
   ]
  },
  {
   "cell_type": "code",
   "execution_count": null,
   "metadata": {
    "collapsed": false
   },
   "outputs": [],
   "source": [
    "import os.path\n",
    "seq_filename = os.path.join('data', 'seq.txt')\n",
    "if (os.path.exists(seq_filename)):\n",
    "    with open(seq_filename) as data:\n",
    "        for line in data:\n",
    "            print(line.strip())\n",
    "\n",
    "    print(os.path.dirname(seq_filename))\n",
    "    print(os.path.basename(seq_filename))\n",
    "    \n",
    "else:\n",
    "    print('file {} not found'.format(seq_filename))"
   ]
  },
  {
   "cell_type": "markdown",
   "metadata": {},
   "source": [
    "### Ex 3.1\n",
    "\n",
    "- Read a tab delimited file data/genes.txt \n",
    "- Check the file exists\n",
    "- Calculate the length of each gene\n",
    "- Write the results into a new tab separated file"
   ]
  },
  {
   "cell_type": "markdown",
   "metadata": {},
   "source": [
    "### csv module"
   ]
  },
  {
   "cell_type": "code",
   "execution_count": null,
   "metadata": {
    "collapsed": false
   },
   "outputs": [],
   "source": [
    "# csv module - reader\n",
    "import csv\n",
    "gc_content_filename = 'gc_content_data.csv'\n",
    "if os.path.exists(gc_content_filename):\n",
    "    #print('file exists')\n",
    "    with open(gc_content_filename) as data:\n",
    "        #for line in data:\n",
    "        #    print(line)\n",
    "        reader = csv.reader(data, delimiter = \",\")\n",
    "        for row in reader:\n",
    "            print(row)\n",
    "    "
   ]
  },
  {
   "cell_type": "code",
   "execution_count": null,
   "metadata": {
    "collapsed": false
   },
   "outputs": [],
   "source": [
    "import csv\n",
    "gc_content_filename = 'gc_content_data.csv'\n",
    "results = []\n",
    "if os.path.exists(gc_content_filename):\n",
    "    with open(gc_content_filename) as data:\n",
    "        reader = csv.DictReader(data, delimiter = \",\")\n",
    "        for row in reader:\n",
    "            results.append(row)\n",
    "\n",
    "# ordered dictionary\n",
    "print(results[1])\n",
    "\n",
    "for r in results:\n",
    "    print('{}\\t{}'.format(r['seq'], r['gc']))\n"
   ]
  },
  {
   "cell_type": "code",
   "execution_count": null,
   "metadata": {
    "collapsed": false
   },
   "outputs": [],
   "source": [
    "# csv module - writer\n",
    "with open('output.txt', 'w') as out:\n",
    "    writer = csv.DictWriter(out, fieldnames=['seq', 'gc'], delimiter='\\t')\n",
    "    #writer.writeheader()\n",
    "    for r in results:\n",
    "        writer.writerow(r)"
   ]
  },
  {
   "cell_type": "markdown",
   "metadata": {},
   "source": [
    "### Ex 3.2\n",
    "- change the script you wrote for Ex 3.1 to make use of the csv module"
   ]
  },
  {
   "cell_type": "code",
   "execution_count": null,
   "metadata": {
    "collapsed": false
   },
   "outputs": [],
   "source": [
    "# pandas module\n",
    "import pandas\n",
    "data = pandas.read_csv('gc_content_data.csv')\n",
    "print(data)\n",
    "for i, d in data.iterrows():\n",
    "    print(d['seq'], d['gc'])"
   ]
  },
  {
   "cell_type": "code",
   "execution_count": null,
   "metadata": {
    "collapsed": true
   },
   "outputs": [],
   "source": [
    "data.to_csv('new_gc_content_data.csv', sep=',', index=False)"
   ]
  },
  {
   "cell_type": "markdown",
   "metadata": {},
   "source": [
    "### Writing your own module"
   ]
  },
  {
   "cell_type": "code",
   "execution_count": null,
   "metadata": {
    "collapsed": true
   },
   "outputs": [],
   "source": [
    "# use this function and save it into a file called tools.py\n",
    "def gc_content(seq):\n",
    "    gc = 0\n",
    "    for base in seq:\n",
    "        if (base == 'G') or (base == 'C'):\n",
    "            gc += 1\n",
    "    return gc"
   ]
  },
  {
   "cell_type": "code",
   "execution_count": null,
   "metadata": {
    "collapsed": false
   },
   "outputs": [],
   "source": [
    "import tools\n",
    "print(tools.gc_content('AAATTTCCGG'))"
   ]
  },
  {
   "cell_type": "code",
   "execution_count": null,
   "metadata": {
    "collapsed": false
   },
   "outputs": [],
   "source": [
    "from tools import gc_content\n",
    "print(gc_content('AAATTTCCGG'))"
   ]
  },
  {
   "cell_type": "markdown",
   "metadata": {},
   "source": [
    "### Ex 3.3\n",
    "\n",
    "- Write a function that extracts a list of overlapping sub-sequences for a given window size for any given sequences"
   ]
  },
  {
   "cell_type": "markdown",
   "metadata": {},
   "source": [
    "### Ex 3.4\n",
    "- Calculate GC content along the DNA sequence by combining the two functions writen using the tools module"
   ]
  }
 ],
 "metadata": {
  "kernelspec": {
   "display_name": "Python 3",
   "language": "python",
   "name": "python3"
  },
  "language_info": {
   "codemirror_mode": {
    "name": "ipython",
    "version": 3
   },
   "file_extension": ".py",
   "mimetype": "text/x-python",
   "name": "python",
   "nbconvert_exporter": "python",
   "pygments_lexer": "ipython3",
   "version": "3.6.4"
  }
 },
 "nbformat": 4,
 "nbformat_minor": 2
}
