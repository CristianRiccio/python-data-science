{
 "cells": [
  {
   "cell_type": "markdown",
   "metadata": {
    "deletable": true,
    "editable": true,
    "slideshow": {
     "slide_type": "-"
    }
   },
   "source": [
    "# Python functions and modules: best practices\n",
    "\n",
    "- Our course webpage: http://pycam.github.io\n",
    "- Python website: https://www.python.org/ \n",
    "- [Python 3 Standard Library](https://docs.python.org/3/library/index.html])\n",
    "\n",
    "## Session 1: Introduction to Python\n",
    "- [Simple data types](#Simple-data-types)\n",
    "- [Collections](#Collections)\n",
    "- [Conditional execution](#Conditional-execution)\n",
    "- [Loops](#Loops)\n",
    "- [Files](#Files)\n",
    "- [Exercises 1.1](#Exercises-1.1)"
   ]
  },
  {
   "cell_type": "markdown",
   "metadata": {
    "deletable": true,
    "editable": true,
    "slideshow": {
     "slide_type": "-"
    }
   },
   "source": [
    "## Simple data types"
   ]
  },
  {
   "cell_type": "code",
   "execution_count": null,
   "metadata": {
    "collapsed": false,
    "deletable": true,
    "editable": true,
    "slideshow": {
     "slide_type": "-"
    }
   },
   "outputs": [],
   "source": [
    "## Integer\n",
    "i = 1\n",
    "print('Integer:', i)\n",
    "## Float\n",
    "x = 3.14\n",
    "print('Float', x)\n",
    "## Boolean\n",
    "print(True)"
   ]
  },
  {
   "cell_type": "code",
   "execution_count": null,
   "metadata": {
    "collapsed": false,
    "deletable": true,
    "editable": true,
    "slideshow": {
     "slide_type": "-"
    }
   },
   "outputs": [],
   "source": [
    "## String\n",
    "s0 = '' # empty string\n",
    "s1 = 'ATGTCGTCTACAACACT' # single quotes\n",
    "s2 = \"spam's\" # double quotes\n",
    "print(s1 + s2) # concatenate\n",
    "print(s1, s2) # print"
   ]
  },
  {
   "cell_type": "markdown",
   "metadata": {
    "deletable": true,
    "editable": true,
    "slideshow": {
     "slide_type": "-"
    }
   },
   "source": [
    "## Collections"
   ]
  },
  {
   "cell_type": "code",
   "execution_count": null,
   "metadata": {
    "collapsed": false,
    "deletable": true,
    "editable": true,
    "slideshow": {
     "slide_type": "-"
    }
   },
   "outputs": [],
   "source": [
    "## Tuple - immutable\n",
    "my_tuple = (2, 3, 4, 5)\n",
    "print('A tuple:', my_tuple)\n",
    "print('First element of tuple:', my_tuple[0])"
   ]
  },
  {
   "cell_type": "code",
   "execution_count": null,
   "metadata": {
    "collapsed": false,
    "deletable": true,
    "editable": true,
    "slideshow": {
     "slide_type": "-"
    }
   },
   "outputs": [],
   "source": [
    "## List\n",
    "my_list = [2, 3, 4, 5]\n",
    "print('A list:', my_list)\n",
    "print('First element of list:', my_list[0])\n",
    "my_list.append(12)\n",
    "print('Appended list:', my_list)\n",
    "my_list[0] = 45\n",
    "print('Modified list:', my_list)"
   ]
  },
  {
   "cell_type": "code",
   "execution_count": null,
   "metadata": {
    "collapsed": false,
    "deletable": true,
    "editable": true,
    "slideshow": {
     "slide_type": "-"
    }
   },
   "outputs": [],
   "source": [
    "## String - immutable, tuple of characters\n",
    "text = \"ATGTCATTT\"\n",
    "print('Here is a string:', text)\n",
    "print('First character:', text[0])\n",
    "print('Slice text[1:3]:', text[1:3])\n",
    "print('Number of characters in text', len(text))"
   ]
  },
  {
   "cell_type": "code",
   "execution_count": null,
   "metadata": {
    "collapsed": false,
    "deletable": true,
    "editable": true,
    "slideshow": {
     "slide_type": "-"
    }
   },
   "outputs": [],
   "source": [
    "## Set - unique unordered elements\n",
    "my_set = set([1,2,2,2,2,4,5,6,6,6])\n",
    "print('A set:', my_set)"
   ]
  },
  {
   "cell_type": "code",
   "execution_count": null,
   "metadata": {
    "collapsed": false,
    "deletable": true,
    "editable": true,
    "slideshow": {
     "slide_type": "-"
    }
   },
   "outputs": [],
   "source": [
    "## Dictionary\n",
    "my_dictionary = {\"A\": \"Adenine\", \n",
    "                 \"C\": \"Cytosine\", \n",
    "                 \"G\": \"Guanine\", \n",
    "                 \"T\": \"Thymine\"}\n",
    "print('A dictionary:', my_dictionary)\n",
    "print('Value associated to key C:', my_dictionary['C'])"
   ]
  },
  {
   "cell_type": "markdown",
   "metadata": {
    "deletable": true,
    "editable": true,
    "slideshow": {
     "slide_type": "-"
    }
   },
   "source": [
    "## Functions used so far..."
   ]
  },
  {
   "cell_type": "code",
   "execution_count": null,
   "metadata": {
    "collapsed": false,
    "deletable": true,
    "editable": true
   },
   "outputs": [],
   "source": [
    "my_list = ['A', 'C', 'A', 'T', 'G']\n",
    "print('There are', len(my_list), 'elements in the list', my_list)\n",
    "print('There are', my_list.count('A'), 'letter A in the list', my_list)\n",
    "print(\"ATG TCA CCG GGC\".split())"
   ]
  },
  {
   "cell_type": "markdown",
   "metadata": {
    "deletable": true,
    "editable": true
   },
   "source": [
    "## Conditional execution"
   ]
  },
  {
   "cell_type": "markdown",
   "metadata": {
    "deletable": true,
    "editable": true
   },
   "source": [
    "## Loops"
   ]
  },
  {
   "cell_type": "markdown",
   "metadata": {
    "deletable": true,
    "editable": true
   },
   "source": [
    "## Files"
   ]
  },
  {
   "cell_type": "markdown",
   "metadata": {},
   "source": [
    "## Exercises 1.1\n",
    "\n",
    "- Read in the input file `data/cancer.txt`\n",
    "- Create two separate lists for 'Female' and 'Male' patients\n",
    "- How many 'Female' patients aged above 40 years are ER positive?\n",
    "- Which group of patients is more likely to be in grade 3 on average?"
   ]
  },
  {
   "cell_type": "markdown",
   "metadata": {
    "deletable": true,
    "editable": true,
    "slideshow": {
     "slide_type": "-"
    }
   },
   "source": [
    "## Next session\n",
    "\n",
    "Go to our next notebook: [python_functions_and_modules_2](python_fm_2.ipynb)"
   ]
  }
 ],
 "metadata": {
  "celltoolbar": "Slideshow",
  "kernelspec": {
   "display_name": "Python 3",
   "language": "python",
   "name": "python3"
  },
  "language_info": {
   "codemirror_mode": {
    "name": "ipython",
    "version": 3
   },
   "file_extension": ".py",
   "mimetype": "text/x-python",
   "name": "python",
   "nbconvert_exporter": "python",
   "pygments_lexer": "ipython3",
   "version": "3.6.0"
  }
 },
 "nbformat": 4,
 "nbformat_minor": 0
}
