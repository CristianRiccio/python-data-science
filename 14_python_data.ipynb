{
 "cells": [
  {
   "cell_type": "markdown",
   "metadata": {},
   "source": [
    "# Data science in Python\n",
    "\n",
    "- Course GitHub repo: https://github.com/pycam/python-data-science\n",
    "- Python website: https://www.python.org/ \n",
    "\n",
    "## Session 1.4: Working with Pandas\n",
    "\n",
    "- Import the Pandas library\n",
    "- Use Pandas to load a simple CSV data set\n",
    "- Get some basic information about a Pandas DataFrame\n",
    "\n",
    "\n",
    "- see https://datacarpentry.org/python-ecology-lesson/02-starting-with-data/index.html\n",
    "- see https://datacarpentry.org/python-ecology-lesson/05-merging-data/index.html\n",
    "- see http://swcarpentry.github.io/python-novice-gapminder/07-reading-tabular/index.html\n",
    "- see http://swcarpentry.github.io/python-novice-gapminder/08-data-frames/index.html\n"
   ]
  },
  {
   "cell_type": "markdown",
   "metadata": {},
   "source": [
    "## Import the Pandas library\n",
    "\n",
    "Pandas is a widely-used external Python library for statistics, particularly on tabular data.\n",
    "It borrows many features from R’s dataframes.\n",
    "A dataframe is a 2-dimentional table whose columns have names and potentially have different data types.\n",
    "\n",
    "To load `pandas` into your environment, you first need to install it using `pip install pandas` as it is an external third-party library not included by default when you install Python.\n",
    "To load it use `import pandas`."
   ]
  },
  {
   "cell_type": "code",
   "execution_count": null,
   "metadata": {},
   "outputs": [],
   "source": [
    "import pandas"
   ]
  },
  {
   "cell_type": "markdown",
   "metadata": {},
   "source": [
    "## Use Pandas to load a simple CSV data set\n",
    "\n",
    "For reading a Comma Separate Values (CSV) data file with pandas, we use `pandas.read_csv()`:\n",
    "\n",
    "- Argument is the name of the file to be read.\n",
    "- Assign result to a variable to store the data that was read.\n",
    "\n",
    "\n",
    "The columns in a dataframe are the observed variables, and the rows are the observations.\n",
    "\n",
    "Pandas uses backslash `\\` to show wrapped lines when output is too wide to fit the screen."
   ]
  },
  {
   "cell_type": "code",
   "execution_count": null,
   "metadata": {},
   "outputs": [],
   "source": [
    "data = pandas.read_csv('data/gapminder_gdp_oceania.csv')\n",
    "print(data)"
   ]
  },
  {
   "cell_type": "markdown",
   "metadata": {},
   "source": [
    "Our course stores its data files in a `data/` sub-directory, which is why the path to the file is `data/gapminder_gdp_oceania.csv`. If you forget to include `data/`, or if you include it but your copy of the file is somewhere else, you will get a runtime error that ends with a line like this:\n",
    "```\n",
    "FileNotFoundError: File b'gapminder_gdp_oceania.csv' does not exist\n",
    "```"
   ]
  },
  {
   "cell_type": "markdown",
   "metadata": {},
   "source": [
    "## Get some basic information about a Pandas DataFrame"
   ]
  }
 ],
 "metadata": {
  "kernelspec": {
   "display_name": "Python 3",
   "language": "python",
   "name": "python3"
  },
  "language_info": {
   "codemirror_mode": {
    "name": "ipython",
    "version": 3
   },
   "file_extension": ".py",
   "mimetype": "text/x-python",
   "name": "python",
   "nbconvert_exporter": "python",
   "pygments_lexer": "ipython3",
   "version": "3.6.4"
  }
 },
 "nbformat": 4,
 "nbformat_minor": 2
}
