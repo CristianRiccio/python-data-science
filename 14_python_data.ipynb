{
 "cells": [
  {
   "cell_type": "markdown",
   "metadata": {},
   "source": [
    "# Data science in Python\n",
    "\n",
    "## Session 1.4: Starting with data using Pandas\n",
    "\n",
    "\n",
    "- see https://datacarpentry.org/python-ecology-lesson/05-merging-data/index.html\n",
    "- see http://swcarpentry.github.io/python-novice-gapminder/07-reading-tabular/index.html\n",
    "- see http://swcarpentry.github.io/python-novice-gapminder/08-data-frames/index.html\n"
   ]
  },
  {
   "cell_type": "code",
   "execution_count": null,
   "metadata": {},
   "outputs": [],
   "source": []
  }
 ],
 "metadata": {
  "kernelspec": {
   "display_name": "Python 3",
   "language": "python",
   "name": "python3"
  },
  "language_info": {
   "codemirror_mode": {
    "name": "ipython",
    "version": 3
   },
   "file_extension": ".py",
   "mimetype": "text/x-python",
   "name": "python",
   "nbconvert_exporter": "python",
   "pygments_lexer": "ipython3",
   "version": "3.6.4"
  }
 },
 "nbformat": 4,
 "nbformat_minor": 2
}
